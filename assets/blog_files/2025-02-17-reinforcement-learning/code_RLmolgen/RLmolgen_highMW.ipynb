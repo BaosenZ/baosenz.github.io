{
 "cells": [
  {
   "cell_type": "markdown",
   "metadata": {},
   "source": [
    "Let's play a game! The SMILES string must be exactly 3 characters long, and only single bonds are allowed. What is the highest molecular weight (MW) you can achieve? Use only C, N, and O to find the valid SMILES with the highest MW."
   ]
  },
  {
   "cell_type": "markdown",
   "metadata": {},
   "source": [
    "## Direct search"
   ]
  },
  {
   "cell_type": "code",
   "execution_count": null,
   "metadata": {},
   "outputs": [
    {
     "name": "stdout",
     "output_type": "stream",
     "text": [
      "{'NON', 'CON', 'NNN', 'NCN', 'CNC', 'ONC', 'NCC', 'NOC', 'CCN', 'OOO', 'COC', 'NCO', 'CNN', 'OOC', 'CCC', 'OON', 'NNO', 'NOO', 'CNO', 'ONN', 'COO', 'OCN', 'ONO', 'CCO', 'NNC', 'OCO', 'OCC'}\n",
      "27\n",
      "Best SMILES: OOO, Highest MW: 50.013000000000005\n"
     ]
    }
   ],
   "source": [
    "from rdkit import Chem\n",
    "from rdkit.Chem import Descriptors\n",
    "import itertools\n",
    "\n",
    "# Possible characters for SMILES\n",
    "atoms = [\"C\", \"N\", \"O\"]\n",
    "\n",
    "# Generate all possible SMILES combinations\n",
    "possible_smiles = set()\n",
    "for comb in itertools.product(atoms, repeat=3):\n",
    "    smiles = \"\".join(comb)\n",
    "    if len(smiles) == 3:\n",
    "        possible_smiles.add(smiles)\n",
    "print(\"Check the combinations: \\n\")\n",
    "print(possible_smiles)\n",
    "print(len(possible_smiles))\n",
    "\n",
    "# Validate SMILES and find highest MW\n",
    "best_smiles = None\n",
    "highest_mw = 0\n",
    "\n",
    "for smi in possible_smiles:\n",
    "    mol = Chem.MolFromSmiles(smi)\n",
    "    if mol:  # Check if valid\n",
    "        mw = Descriptors.MolWt(mol)\n",
    "        if mw > highest_mw:\n",
    "            highest_mw = mw\n",
    "            best_smiles = smi\n",
    "\n",
    "print(f\"Best SMILES: {best_smiles}, Highest MW: {highest_mw}\")\n"
   ]
  },
  {
   "cell_type": "code",
   "execution_count": 13,
   "metadata": {},
   "outputs": [
    {
     "data": {
      "image/jpeg": "[encoded data removed]",
      "image/png": "[encoded data removed]",
      "text/plain": [
       "<PIL.PngImagePlugin.PngImageFile image mode=RGB size=300x300>"
      ]
     },
     "metadata": {},
     "output_type": "display_data"
    }
   ],
   "source": [
    "from IPython.display import display\n",
    "from rdkit import Chem\n",
    "from rdkit.Chem import Draw\n",
    "\n",
    "# Convert SMILES to RDKit molecules\n",
    "mol = Chem.MolFromSmiles(best_smiles)\n",
    "\n",
    "# Generate the image\n",
    "img = Draw.MolToImage(mol, size=(300, 300))\n",
    "\n",
    "# Display in Jupyter Notebook\n",
    "display(img)"
   ]
  },
  {
   "cell_type": "markdown",
   "metadata": {},
   "source": [
    "## RL method"
   ]
  },
  {
   "cell_type": "markdown",
   "metadata": {},
   "source": [
    "Reinforcement learning (RL) can be used to solve this problem, especially if you generalize it beyond brute-force searching. Instead of iterating through all possible combinations, RL can learn to generate the optimal SMILES with the highest molecular weight efficiently.\n",
    "\n",
    "Below, we will use Q-learning to solve the same problem."
   ]
  },
  {
   "cell_type": "code",
   "execution_count": 27,
   "metadata": {},
   "outputs": [
    {
     "data": {
      "text/plain": [
       "{('', 0): 0.48764302152030004,\n",
       " ('C', 0): 1.1112444000000001,\n",
       " ('CC', 0): 11.950287,\n",
       " ('C', 2): 3.377502666,\n",
       " ('CO', 0): 18.86571619,\n",
       " ('', 2): 0.0,\n",
       " ('O', 0): 0.0,\n",
       " ('OC', 0): 4.6069,\n",
       " ('', 1): 0.0,\n",
       " ('N', 0): 0.0,\n",
       " ('NC', 0): 4.5085}"
      ]
     },
     "execution_count": 27,
     "metadata": {},
     "output_type": "execute_result"
    }
   ],
   "source": [
    "import random\n",
    "import pickle  # For saving and loading the model\n",
    "from rdkit import Chem\n",
    "from rdkit.Chem import Descriptors\n",
    "\n",
    "# Allowed elements\n",
    "elements = [\"C\", \"N\", \"O\"]\n",
    "# SMILES length constraint\n",
    "max_length = 3\n",
    "\n",
    "\n",
    "# Molecular Environment\n",
    "class MolecularEnvironment:\n",
    "    def __init__(self):\n",
    "        self.current_smiles = []\n",
    "    \n",
    "    def reset(self):\n",
    "        \"\"\"Resets the environment (clears SMILES string).\"\"\"\n",
    "        self.current_smiles = []\n",
    "        return \"\"\n",
    "\n",
    "    def step(self, action):\n",
    "        \"\"\"Takes an action (adds an element) and returns new state, reward, and done flag.\"\"\"\n",
    "        self.current_smiles.append(elements[action])\n",
    "        new_state = \"\".join(self.current_smiles)\n",
    "        done = len(self.current_smiles) == max_length  # Stop when 3 characters are reached\n",
    "        reward = self.get_molecular_weight(new_state) if done else 0\n",
    "        return new_state, reward, done\n",
    "\n",
    "    @staticmethod\n",
    "    def get_molecular_weight(smiles):\n",
    "        \"\"\"Calculates molecular weight using RDKit. Returns -10 for invalid molecules.\"\"\"\n",
    "        mol = Chem.MolFromSmiles(smiles)\n",
    "        return Descriptors.MolWt(mol) if mol else -10  # Penalize invalid SMILES\n",
    "\n",
    "\n",
    "# Q-learning Agent\n",
    "class Agent:\n",
    "    def __init__(self, alpha=0.1, gamma=0.9, epsilon=0.2):\n",
    "        self.q_table = {}  # State-action values\n",
    "        self.alpha = alpha  # Learning rate (how much new information influences past values)\n",
    "        self.gamma = gamma  # Discount factor (importance of future rewards)\n",
    "        self.epsilon = epsilon  # Exploration rate\n",
    "\n",
    "def train_molgen_highMW(agent, episodes=10):\n",
    "    \"\"\"Trains the agent using Q-learning to maximize molecular weight.\"\"\"\n",
    "    env = MolecularEnvironment()\n",
    "\n",
    "    for episode in range(episodes):\n",
    "        state = env.reset()  # Start with an empty SMILES\n",
    "        done = False\n",
    "        \n",
    "        while not done and len(state) < max_length:\n",
    "            # Choose action (explore or exploit)\n",
    "            if random.random() < agent.epsilon:\n",
    "                action = random.choice(range(len(elements)))  # Random exploration\n",
    "            else:\n",
    "                action = max(range(len(elements)), key=lambda a: agent.q_table.get((state, a), 0))  # Exploitation\n",
    "                \n",
    "            new_state, reward, done = env.step(action)\n",
    "\n",
    "            # Q-learning update\n",
    "            old_value = agent.q_table.get((state, action), 0)\n",
    "            next_max = max([agent.q_table.get((new_state, a), 0) for a in range(len(elements))], default=0)\n",
    "            # standard Bellman equation for Q-learning\n",
    "            agent.q_table[(state, action)] = old_value + agent.alpha * (reward + agent.gamma * next_max - old_value)\n",
    "\n",
    "            state = new_state  # Move to new state\n",
    "\n",
    "\n",
    "# Start training\n",
    "agent = Agent()\n",
    "train_molgen_highMW(agent)\n",
    "\n",
    "agent.q_table"
   ]
  },
  {
   "cell_type": "code",
   "execution_count": 28,
   "metadata": {},
   "outputs": [],
   "source": [
    "# Saves the trained Q-table\n",
    "filename=\"q_table.pkl\"\n",
    "with open(filename, \"wb\") as f:\n",
    "    pickle.dump(agent.q_table, f)\n",
    "    \n",
    "with open(filename, \"rb\") as f:\n",
    "    agent.q_table = pickle.load(f)\n",
    "\n",
    "# Loads the Q-table\n",
    "# agent.q_table"
   ]
  },
  {
   "cell_type": "code",
   "execution_count": 29,
   "metadata": {},
   "outputs": [
    {
     "name": "stdout",
     "output_type": "stream",
     "text": [
      "Best SMILES: COC, Highest MW: 46.069\n"
     ]
    },
    {
     "data": {
      "text/plain": [
       "('COC', 46.069)"
      ]
     },
     "execution_count": 29,
     "metadata": {},
     "output_type": "execute_result"
    }
   ],
   "source": [
    "# Run inference\n",
    "def run_inference(agent):\n",
    "    \"\"\"Finds the SMILES with the highest molecular weight using the trained Q-table.\"\"\"\n",
    "    best_smiles = \"\"\n",
    "    best_mw = -float(\"inf\")\n",
    "    env = MolecularEnvironment()\n",
    "\n",
    "    for (state, action), value in agent.q_table.items():\n",
    "        full_smiles = state + elements[action]\n",
    "        if len(full_smiles) == max_length:\n",
    "            mw = env.get_molecular_weight(full_smiles)\n",
    "            if mw > best_mw:\n",
    "                best_mw = mw\n",
    "                best_smiles = full_smiles\n",
    "\n",
    "    print(f\"Best SMILES: {best_smiles}, Highest MW: {best_mw}\")\n",
    "    return best_smiles, best_mw\n",
    "\n",
    "run_inference(agent)"
   ]
  },
  {
   "cell_type": "code",
   "execution_count": null,
   "metadata": {},
   "outputs": [
    {
     "name": "stdout",
     "output_type": "stream",
     "text": [
      "Best SMILES: COC, Highest MW: 46.069\n"
     ]
    },
    {
     "data": {
      "text/plain": [
       "('COC', 46.069)"
      ]
     },
     "execution_count": 30,
     "metadata": {},
     "output_type": "execute_result"
    }
   ],
   "source": [
    "# Run inference\n",
    "def run_inference(agent):\n",
    "    \"\"\"Finds the SMILES with the highest molecular weight using the trained Q-table.\"\"\"\n",
    "    best_smiles = \"\"\n",
    "    best_mw = -float(\"inf\")\n",
    "    env = MolecularEnvironment()\n",
    "    max_value = 0\n",
    "\n",
    "    for (state, action), value in agent.q_table.items():\n",
    "        if value > max_value: # Choose best Q-value\n",
    "            max_value = value\n",
    "            full_smiles = state + elements[action]\n",
    "            if len(full_smiles) == max_length:\n",
    "                mw = env.get_molecular_weight(full_smiles)\n",
    "                if mw > best_mw:\n",
    "                    best_mw = mw\n",
    "                    best_smiles = full_smiles\n",
    "\n",
    "    print(f\"Best SMILES: {best_smiles}, Highest MW: {best_mw}\")\n",
    "    return best_smiles, best_mw\n",
    "\n",
    "run_inference(agent)"
   ]
  },
  {
   "cell_type": "markdown",
   "metadata": {},
   "source": [
    "If the iteration is small, the q-value is not optimized. When we searched the max q-value, the MW is sometimes not max. "
   ]
  },
  {
   "cell_type": "markdown",
   "metadata": {},
   "source": [
    "1. The same state-action pair can be updated multiple times as the agent learns.\n",
    "2. Each update gradually moves Q-values toward the true expected return.\n",
    "3. Q-values stabilize over time as learning progresses."
   ]
  }
 ],
 "metadata": {
  "kernelspec": {
   "display_name": "base",
   "language": "python",
   "name": "python3"
  },
  "language_info": {
   "codemirror_mode": {
    "name": "ipython",
    "version": 3
   },
   "file_extension": ".py",
   "mimetype": "text/x-python",
   "name": "python",
   "nbconvert_exporter": "python",
   "pygments_lexer": "ipython3",
   "version": "3.11.7"
  }
 },
 "nbformat": 4,
 "nbformat_minor": 2
}
